{
 "cells": [
  {
   "cell_type": "code",
   "execution_count": 1,
   "metadata": {
    "collapsed": true
   },
   "outputs": [
    {
     "name": "stdout",
     "output_type": "stream",
     "text": [
      "Tensorflow version:  2.7.0\n"
     ]
    }
   ],
   "source": [
    "import pickle\n",
    "import numpy as np\n",
    "import pandas as pd\n",
    "import tensorflow as tf\n",
    "from tensorflow.keras.applications import ResNet50\n",
    "from tensorflow.keras.layers import Dense, Input, Conv2D, MaxPooling2D, Flatten\n",
    "from tensorflow.keras.models import Model\n",
    "from tensorflow.keras.utils import plot_model\n",
    "from tensorflow.keras.preprocessing.image import load_img, img_to_array\n",
    "from sklearn.preprocessing import LabelBinarizer\n",
    "print(\"Tensorflow version: \", tf.__version__)"
   ]
  },
  {
   "cell_type": "code",
   "execution_count": 2,
   "metadata": {
    "collapsed": false
   },
   "outputs": [],
   "source": [
    "# unpickle all variables\n",
    "with open('processed_dataset.pickle' , 'rb') as f:\n",
    "    dataset = pickle.load(f)\n",
    "    diag = pickle.load(f)\n",
    "    localization = pickle.load(f)"
   ]
  },
  {
   "cell_type": "code",
   "execution_count": 3,
   "metadata": {
    "collapsed": false
   },
   "outputs": [],
   "source": [
    "mapping_dx = {\n",
    "    'nevus': 0,\n",
    "    'melanoma': 1,\n",
    "    'keratosis-like': 0,\n",
    "    'basal cell carcinoma': 0,\n",
    "    'vascular lesion': 0,\n",
    "    'dermatofibroma': 0,\n",
    "    'lentigo': 0,\n",
    "}\n",
    "mapping_localization = {\n",
    "    'lower extremity': 0,\n",
    "    'torso': 1,\n",
    "    'upper extremity': 2,\n",
    "    'head/neck': 3,\n",
    "    'palms/soles': 4,\n",
    "    'oral/genital': 5,\n",
    "    'unknown': 6,\n",
    "    'hands/feet': 7\n",
    "}"
   ]
  },
  {
   "cell_type": "code",
   "execution_count": 4,
   "metadata": {
    "collapsed": false
   },
   "outputs": [],
   "source": [
    "# create a new column with the mapping based on dx\n",
    "dataset['dx'] = dataset['dx'].map(mapping_dx)\n",
    "dataset['localization'] = dataset['localization'].map(mapping_localization)\n"
   ]
  },
  {
   "cell_type": "code",
   "execution_count": 5,
   "metadata": {
    "collapsed": false
   },
   "outputs": [
    {
     "name": "stderr",
     "output_type": "stream",
     "text": [
      "2023-02-26 00:29:44.591566: I tensorflow/stream_executor/cuda/cuda_gpu_executor.cc:939] successful NUMA node read from SysFS had negative value (-1), but there must be at least one NUMA node, so returning NUMA node zero\n",
      "2023-02-26 00:29:44.650386: I tensorflow/stream_executor/cuda/cuda_gpu_executor.cc:939] successful NUMA node read from SysFS had negative value (-1), but there must be at least one NUMA node, so returning NUMA node zero\n",
      "2023-02-26 00:29:44.650578: I tensorflow/stream_executor/cuda/cuda_gpu_executor.cc:939] successful NUMA node read from SysFS had negative value (-1), but there must be at least one NUMA node, so returning NUMA node zero\n",
      "2023-02-26 00:29:44.651624: I tensorflow/core/platform/cpu_feature_guard.cc:151] This TensorFlow binary is optimized with oneAPI Deep Neural Network Library (oneDNN) to use the following CPU instructions in performance-critical operations:  SSE4.1 SSE4.2 AVX AVX2 FMA\n",
      "To enable them in other operations, rebuild TensorFlow with the appropriate compiler flags.\n",
      "2023-02-26 00:29:44.653365: I tensorflow/stream_executor/cuda/cuda_gpu_executor.cc:939] successful NUMA node read from SysFS had negative value (-1), but there must be at least one NUMA node, so returning NUMA node zero\n",
      "2023-02-26 00:29:44.653515: I tensorflow/stream_executor/cuda/cuda_gpu_executor.cc:939] successful NUMA node read from SysFS had negative value (-1), but there must be at least one NUMA node, so returning NUMA node zero\n",
      "2023-02-26 00:29:44.653623: I tensorflow/stream_executor/cuda/cuda_gpu_executor.cc:939] successful NUMA node read from SysFS had negative value (-1), but there must be at least one NUMA node, so returning NUMA node zero\n",
      "2023-02-26 00:29:45.182148: I tensorflow/stream_executor/cuda/cuda_gpu_executor.cc:939] successful NUMA node read from SysFS had negative value (-1), but there must be at least one NUMA node, so returning NUMA node zero\n",
      "2023-02-26 00:29:45.182297: I tensorflow/stream_executor/cuda/cuda_gpu_executor.cc:939] successful NUMA node read from SysFS had negative value (-1), but there must be at least one NUMA node, so returning NUMA node zero\n",
      "2023-02-26 00:29:45.182398: I tensorflow/stream_executor/cuda/cuda_gpu_executor.cc:939] successful NUMA node read from SysFS had negative value (-1), but there must be at least one NUMA node, so returning NUMA node zero\n",
      "2023-02-26 00:29:45.182477: I tensorflow/core/common_runtime/gpu/gpu_device.cc:1525] Created device /job:localhost/replica:0/task:0/device:GPU:0 with 6083 MB memory:  -> device: 0, name: NVIDIA GeForce RTX 3070 Ti Laptop GPU, pci bus id: 0000:01:00.0, compute capability: 8.6\n"
     ]
    }
   ],
   "source": [
    "# Define input and output shape\n",
    "input_shape = (224, 224, 3)  # assuming RGB images of size 224x224\n",
    "age_shape =  (1,)\n",
    "sex_shape = (1,)\n",
    "localization_shape = (1,)\n",
    "num_classes = 1000  # assuming the number of output classes is 1\n",
    "localization_shape = (1,)\n",
    "\n",
    "\n",
    "age = np.array(dataset['age'], dtype='float16')\n",
    "dx = np.array(dataset['dx'], dtype='float16')\n",
    "images = np.array([img_to_array(img) for img in dataset['image']], dtype='float16')\n",
    "images = np.repeat(images, 3, axis=3)\n",
    "localizations = np.array(dataset['localization'], dtype='float16')\n",
    "sex = dataset['sex'].to_numpy().astype('float16')\n",
    "sex = sex.reshape(-1,1)\n",
    "# rescale the images to 0-1\n",
    "images = images / 255.0\n",
    "\n",
    "tensor_age = tf.keras.Input(shape=age_shape, name='age', dtype='float16')\n",
    "tensor_sex = tf.keras.Input(shape=sex_shape, name='sex',dtype='float16')\n",
    "tensor_localization = tf.keras.Input(shape=localization_shape, name='localization',dtype='float16')\n",
    "tensor_image = tf.keras.Input(shape=input_shape, name='image',dtype='float16')\n",
    "\n",
    "base_model = tf.keras.applications.ResNet50(include_top=False, weights='imagenet')(tensor_image)\n",
    "x = tf.keras.layers.Flatten()(base_model)\n",
    "\n",
    "# Freeze the base model\n",
    "base_model.trainable = False\n",
    "# x = tf.keras.layers.concatenate([x, tensor_age,tensor_sex,tensor_localization])    \n",
    "# Define fully connected layers\n",
    "x = tf.keras.layers.Dense(1024, activation='relu')(x)\n",
    "x = tf.keras.layers.Dense(1024, activation='relu')(x)\n",
    "x = tf.keras.layers.Dense(512, activation='relu')(x)\n",
    "# output layer one neuron for each class\n",
    "x = tf.keras.layers.Dense(num_classes, activation='sigmoid')(x)\n",
    "\n",
    "# Define output layer\n",
    "predictions = tf.keras.layers.Dense(num_classes)(x)\n",
    "\n",
    "# Define the model\n",
    "# model = tf.keras.models.Model(inputs=[tensor_image,tensor_age,tensor_sex,tensor_localization], outputs=predictions)\n",
    "model = tf.keras.models.Model(inputs=[tensor_image,tensor_age,tensor_sex,tensor_localization], outputs=predictions)\n",
    "\n",
    "# Compile the model\n",
    "model.compile(optimizer='adam',\n",
    "              loss=tf.keras.losses.SparseCategoricalCrossentropy(from_logits=True),\n",
    "              metrics=['accuracy'])"
   ]
  },
  {
   "cell_type": "code",
   "execution_count": 6,
   "metadata": {
    "collapsed": false
   },
   "outputs": [],
   "source": [
    "train_data = images[:int(len(images)*0.8)]\n",
    "train_age = age[:int(len(age)*0.8)]\n",
    "train_sex = sex[:int(len(age)*0.8)]\n",
    "train_localization = localizations[:int(len(localizations)*0.8)]\n",
    "train_label = dx[:int(len(dx)*0.8)]\n",
    "\n",
    "val_data = images[int(len(images)*0.8):int(len(images)*0.9)]\n",
    "val_age = age[int(len(images)*0.8):int(len(images)*0.9)]\n",
    "val_sex = sex[int(len(images)*0.8):int(len(images)*0.9)]\n",
    "val_localization = localizations[int(len(images)*0.8):int(len(images)*0.9)]\n",
    "val_labels = dx[int(len(images)*0.8):int(len(images)*0.9)]\n",
    "\n",
    "test_data = images[int(len(images)*0.9):]\n",
    "test_age = age[int(len(images)*0.9):]\n",
    "test_sex = sex[int(len(images)*0.9):]\n",
    "test_localization = localizations[int(len(images)*0.9):]\n",
    "test_labels = dx[int(len(images)*0.9):]"
   ]
  },
  {
   "cell_type": "code",
   "execution_count": 7,
   "metadata": {
    "collapsed": false
   },
   "outputs": [
    {
     "name": "stdout",
     "output_type": "stream",
     "text": [
      "Epoch 1/12\n"
     ]
    },
    {
     "name": "stderr",
     "output_type": "stream",
     "text": [
      "2023-02-26 00:29:50.153376: I tensorflow/stream_executor/cuda/cuda_dnn.cc:366] Loaded cuDNN version 8401\n",
      "2023-02-26 00:29:52.477942: I tensorflow/stream_executor/cuda/cuda_blas.cc:1774] TensorFloat-32 will be used for the matrix multiplication. This will only be logged once.\n"
     ]
    },
    {
     "name": "stdout",
     "output_type": "stream",
     "text": [
      "19/19 [==============================] - 14s 357ms/step - loss: 0.9148 - accuracy: 0.8419 - val_loss: 0.3875 - val_accuracy: 0.8904\n",
      "Epoch 2/12\n",
      "19/19 [==============================] - 4s 203ms/step - loss: 0.3501 - accuracy: 0.8935 - val_loss: 0.3459 - val_accuracy: 0.8904\n",
      "Epoch 3/12\n",
      "19/19 [==============================] - 4s 203ms/step - loss: 0.3481 - accuracy: 0.8935 - val_loss: 0.3517 - val_accuracy: 0.8904\n",
      "Epoch 4/12\n",
      "19/19 [==============================] - 4s 205ms/step - loss: 0.3520 - accuracy: 0.8935 - val_loss: 0.3495 - val_accuracy: 0.8904\n",
      "Epoch 5/12\n",
      "19/19 [==============================] - 4s 205ms/step - loss: 0.3443 - accuracy: 0.8935 - val_loss: 0.3597 - val_accuracy: 0.8904\n",
      "Epoch 6/12\n",
      "19/19 [==============================] - 4s 206ms/step - loss: 0.3458 - accuracy: 0.8935 - val_loss: 0.3503 - val_accuracy: 0.8904\n",
      "Epoch 7/12\n",
      "19/19 [==============================] - 4s 207ms/step - loss: 0.3416 - accuracy: 0.8935 - val_loss: 0.3459 - val_accuracy: 0.8904\n",
      "Epoch 8/12\n",
      "19/19 [==============================] - 4s 207ms/step - loss: 0.3417 - accuracy: 0.8935 - val_loss: 0.3521 - val_accuracy: 0.8904\n",
      "Epoch 9/12\n",
      "19/19 [==============================] - 4s 207ms/step - loss: 0.3585 - accuracy: 0.8935 - val_loss: 0.3607 - val_accuracy: 0.8904\n",
      "Epoch 10/12\n",
      "19/19 [==============================] - 4s 208ms/step - loss: 0.3639 - accuracy: 0.8935 - val_loss: 0.3626 - val_accuracy: 0.8904\n",
      "Epoch 11/12\n",
      "19/19 [==============================] - 4s 208ms/step - loss: 0.3657 - accuracy: 0.8935 - val_loss: 0.3522 - val_accuracy: 0.8904\n",
      "Epoch 12/12\n",
      "19/19 [==============================] - 4s 208ms/step - loss: 0.3499 - accuracy: 0.8935 - val_loss: 0.3662 - val_accuracy: 0.8904\n"
     ]
    }
   ],
   "source": [
    "history = model.fit(\n",
    "    [train_data,train_age,train_sex,train_localization], train_label,epochs=12, batch_size=32, validation_data=([val_data,val_age,val_sex,val_localization], val_labels)\n",
    ")"
   ]
  },
  {
   "cell_type": "code",
   "execution_count": 8,
   "metadata": {
    "collapsed": false
   },
   "outputs": [
    {
     "name": "stdout",
     "output_type": "stream",
     "text": [
      "5/5 [==============================] - 0s 52ms/step - loss: 0.3662 - accuracy: 0.8904\n"
     ]
    }
   ],
   "source": [
    "test_loss, test_acc = model.evaluate([test_data,test_age,test_sex,test_localization], test_labels)"
   ]
  },
  {
   "cell_type": "code",
   "execution_count": 9,
   "metadata": {
    "collapsed": false
   },
   "outputs": [
    {
     "name": "stdout",
     "output_type": "stream",
     "text": [
      "Test accuracy: 0.8904109597206116\n"
     ]
    }
   ],
   "source": [
    "print('Test accuracy:', test_acc)"
   ]
  },
  {
   "cell_type": "code",
   "execution_count": 10,
   "metadata": {},
   "outputs": [
    {
     "name": "stderr",
     "output_type": "stream",
     "text": [
      "/home/mad/mambaforge/envs/MachineLearning/lib/python3.9/site-packages/keras/engine/functional.py:1410: CustomMaskWarning: Custom mask layers require a config and must override get_config. When loading, the custom mask layer must be passed to the custom_objects argument.\n",
      "  layer_config = serialize_layer_fn(layer)\n"
     ]
    }
   ],
   "source": [
    "tf.keras.Model.save(model, 'test.h5')"
   ]
  }
 ],
 "metadata": {
  "kernelspec": {
   "display_name": "MachineLearning",
   "language": "python",
   "name": "python3"
  },
  "language_info": {
   "codemirror_mode": {
    "name": "ipython",
    "version": 3
   },
   "file_extension": ".py",
   "mimetype": "text/x-python",
   "name": "python",
   "nbconvert_exporter": "python",
   "pygments_lexer": "ipython3",
   "version": "3.9.15"
  },
  "vscode": {
   "interpreter": {
    "hash": "8bdd5c009f62a4391c84c154fdddba07798cd1d5d25ef5e0b71e3ea80b2a0ba0"
   }
  }
 },
 "nbformat": 4,
 "nbformat_minor": 0
}
