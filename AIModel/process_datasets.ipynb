{
 "cells": [
  {
   "cell_type": "code",
   "execution_count": 1,
   "metadata": {},
   "outputs": [],
   "source": [
    "import pickle\n",
    "import pandas as pd\n",
    "import os\n",
    "import numpy as np\n",
    "from PIL import Image\n",
    "from tensorflow.keras.applications.resnet50 import preprocess_input\n",
    "from tqdm import tqdm"
   ]
  },
  {
   "cell_type": "code",
   "execution_count": 2,
   "metadata": {
    "collapsed": false
   },
   "outputs": [],
   "source": [
    "# find matching ids from two csv files\n",
    "df1 = pd.read_csv('ISIC_2020_Training_GroundTruth_v2.csv')\n",
    "df2 = pd.read_csv('HAM10000_metadata.csv')\n",
    "df2 = df2.drop(['lesion_id', 'dx_type', ], axis=1)\n",
    "\n",
    "df1 = df1.rename(columns={'image_name': 'image_id'})\n",
    "df1 = df1.rename(columns={'diagnosis': 'dx'})\n",
    "df1 = df1.rename(columns={'anatom_site_general_challenge': 'localization'})\n",
    "df1 = df1.rename(columns={'age_approx': 'age'})\n",
    "df1 = df1.drop(['benign_malignant', \"patient_id\", \"lesion_id\", \"target\"], axis=1)\n",
    "\n",
    "df = pd.concat([df1, df2], axis=0, sort=False)"
   ]
  },
  {
   "cell_type": "code",
   "execution_count": 3,
   "metadata": {
    "collapsed": false
   },
   "outputs": [
    {
     "data": {
      "text/html": [
       "<div>\n",
       "<style scoped>\n",
       "    .dataframe tbody tr th:only-of-type {\n",
       "        vertical-align: middle;\n",
       "    }\n",
       "\n",
       "    .dataframe tbody tr th {\n",
       "        vertical-align: top;\n",
       "    }\n",
       "\n",
       "    .dataframe thead th {\n",
       "        text-align: right;\n",
       "    }\n",
       "</style>\n",
       "<table border=\"1\" class=\"dataframe\">\n",
       "  <thead>\n",
       "    <tr style=\"text-align: right;\">\n",
       "      <th></th>\n",
       "      <th>sex</th>\n",
       "      <th>age</th>\n",
       "      <th>localization</th>\n",
       "      <th>dx</th>\n",
       "    </tr>\n",
       "    <tr>\n",
       "      <th>image_id</th>\n",
       "      <th></th>\n",
       "      <th></th>\n",
       "      <th></th>\n",
       "      <th></th>\n",
       "    </tr>\n",
       "  </thead>\n",
       "  <tbody>\n",
       "    <tr>\n",
       "      <th>ISIC_0052212</th>\n",
       "      <td>1</td>\n",
       "      <td>50</td>\n",
       "      <td>lower extremity</td>\n",
       "      <td>nevus</td>\n",
       "    </tr>\n",
       "    <tr>\n",
       "      <th>ISIC_0076995</th>\n",
       "      <td>1</td>\n",
       "      <td>55</td>\n",
       "      <td>torso</td>\n",
       "      <td>nevus</td>\n",
       "    </tr>\n",
       "    <tr>\n",
       "      <th>ISIC_0084086</th>\n",
       "      <td>1</td>\n",
       "      <td>60</td>\n",
       "      <td>lower extremity</td>\n",
       "      <td>nevus</td>\n",
       "    </tr>\n",
       "    <tr>\n",
       "      <th>ISIC_0084270</th>\n",
       "      <td>1</td>\n",
       "      <td>40</td>\n",
       "      <td>lower extremity</td>\n",
       "      <td>nevus</td>\n",
       "    </tr>\n",
       "    <tr>\n",
       "      <th>ISIC_0084395</th>\n",
       "      <td>1</td>\n",
       "      <td>45</td>\n",
       "      <td>torso</td>\n",
       "      <td>nevus</td>\n",
       "    </tr>\n",
       "    <tr>\n",
       "      <th>...</th>\n",
       "      <td>...</td>\n",
       "      <td>...</td>\n",
       "      <td>...</td>\n",
       "      <td>...</td>\n",
       "    </tr>\n",
       "    <tr>\n",
       "      <th>ISIC_0033084</th>\n",
       "      <td>1</td>\n",
       "      <td>40</td>\n",
       "      <td>torso</td>\n",
       "      <td>keratosis-like</td>\n",
       "    </tr>\n",
       "    <tr>\n",
       "      <th>ISIC_0033550</th>\n",
       "      <td>1</td>\n",
       "      <td>40</td>\n",
       "      <td>torso</td>\n",
       "      <td>keratosis-like</td>\n",
       "    </tr>\n",
       "    <tr>\n",
       "      <th>ISIC_0033536</th>\n",
       "      <td>1</td>\n",
       "      <td>40</td>\n",
       "      <td>torso</td>\n",
       "      <td>keratosis-like</td>\n",
       "    </tr>\n",
       "    <tr>\n",
       "      <th>ISIC_0032854</th>\n",
       "      <td>1</td>\n",
       "      <td>80</td>\n",
       "      <td>head/neck</td>\n",
       "      <td>keratosis-like</td>\n",
       "    </tr>\n",
       "    <tr>\n",
       "      <th>ISIC_0032258</th>\n",
       "      <td>1</td>\n",
       "      <td>70</td>\n",
       "      <td>torso</td>\n",
       "      <td>melanoma</td>\n",
       "    </tr>\n",
       "  </tbody>\n",
       "</table>\n",
       "<p>15889 rows × 4 columns</p>\n",
       "</div>"
      ],
      "text/plain": [
       "             sex  age     localization              dx\n",
       "image_id                                              \n",
       "ISIC_0052212   1   50  lower extremity           nevus\n",
       "ISIC_0076995   1   55            torso           nevus\n",
       "ISIC_0084086   1   60  lower extremity           nevus\n",
       "ISIC_0084270   1   40  lower extremity           nevus\n",
       "ISIC_0084395   1   45            torso           nevus\n",
       "...           ..  ...              ...             ...\n",
       "ISIC_0033084   1   40            torso  keratosis-like\n",
       "ISIC_0033550   1   40            torso  keratosis-like\n",
       "ISIC_0033536   1   40            torso  keratosis-like\n",
       "ISIC_0032854   1   80        head/neck  keratosis-like\n",
       "ISIC_0032258   1   70            torso        melanoma\n",
       "\n",
       "[15889 rows x 4 columns]"
      ]
     },
     "execution_count": 3,
     "metadata": {},
     "output_type": "execute_result"
    }
   ],
   "source": [
    "df['localization'] = df['localization'].replace('trunk', 'torso')\n",
    "df['localization'] = df['localization'].replace('face', 'head/neck')\n",
    "df['localization'] = df['localization'].replace('ear', 'head/neck')\n",
    "df['localization'] = df['localization'].replace('scalp', 'head/neck')\n",
    "df['localization'] = df['localization'].replace('abdomen', 'torso')\n",
    "df['localization'] = df['localization'].replace('genital', 'oral/genital')\n",
    "df['localization'] = df['localization'].replace('back', 'torso')\n",
    "df['localization'] = df['localization'].replace('chest', 'torso')\n",
    "df['localization'] = df['localization'].replace('neck', 'head/neck')\n",
    "df['localization'] = df['localization'].replace('hand', 'hands/feet')\n",
    "df['localization'] = df['localization'].replace('foot', 'hands/feet')\n",
    "df['localization'] = df['localization'].replace('acral', 'hands/feet')\n",
    "df.dropna(subset=['localization'], inplace=True)\n",
    "\n",
    "df['dx'] = df['dx'].replace('nv', 'nevus')\n",
    "df['dx'] = df['dx'].replace('cafe-au-lait macule', 'nevus')\n",
    "df['dx'] = df['dx'].replace('atypical melanocytic proliferation', 'melanoma')\n",
    "df['dx'] = df['dx'].replace('seborrheic keratosis', 'keratosis-like')\n",
    "df['dx'] = df['dx'].replace('lichenoid keratosis', 'keratosis-like')\n",
    "df['dx'] = df['dx'].replace('akiec', 'keratosis-like')\n",
    "df['dx'] = df['dx'].replace('bkl', 'keratosis-like')\n",
    "df['dx'] = df['dx'].replace('solar lentigo', 'lentigo')\n",
    "df['dx'] = df['dx'].replace('lentigo NOS', 'lentigo')\n",
    "df['dx'] = df['dx'].replace('mel', 'melanoma')\n",
    "df['dx'] = df['dx'].replace('bcc', 'basal cell carcinoma')\n",
    "df['dx'] = df['dx'].replace('vasc', 'vascular lesion')\n",
    "df['dx'] = df['dx'].replace('df', 'dermatofibroma')\n",
    "df = df[df.dx != 'unknown']\n",
    "\n",
    "df['sex'] = df['sex'].replace('male', '1')\n",
    "df['sex'] = df['sex'].replace('female', '1')\n",
    "df = df[df['sex'] != 'unknown']\n",
    "\n",
    "\n",
    "df.dropna(subset=['age'], inplace=True)\n",
    "df['age'] = df['age'].astype(int)\n",
    "df = df.set_index('image_id')\n",
    "df"
   ]
  },
  {
   "cell_type": "code",
   "execution_count": 4,
   "metadata": {
    "collapsed": false
   },
   "outputs": [
    {
     "name": "stdout",
     "output_type": "stream",
     "text": [
      "['lower extremity', 'torso', 'upper extremity', 'head/neck', 'palms/soles', 'oral/genital', 'unknown', 'hands/feet']\n"
     ]
    }
   ],
   "source": [
    "# list all unique values in localization as a list\n",
    "localizations = df['localization'].unique()\n",
    "localizations = localizations.tolist()\n",
    "print(localizations)"
   ]
  },
  {
   "cell_type": "code",
   "execution_count": 5,
   "metadata": {
    "collapsed": false
   },
   "outputs": [
    {
     "name": "stdout",
     "output_type": "stream",
     "text": [
      "['nevus', 'melanoma', 'keratosis-like', 'lentigo', 'dermatofibroma', 'vascular lesion', 'basal cell carcinoma']\n"
     ]
    }
   ],
   "source": [
    "# count of rows for each dx\n",
    "diag = df['dx'].unique()\n",
    "diag = diag.tolist()\n",
    "print(diag)"
   ]
  },
  {
   "cell_type": "code",
   "execution_count": 6,
   "metadata": {
    "collapsed": false
   },
   "outputs": [],
   "source": [
    "df = df.sample(n=1000, random_state=1)"
   ]
  },
  {
   "cell_type": "code",
   "execution_count": 7,
   "metadata": {
    "collapsed": false
   },
   "outputs": [
    {
     "name": "stderr",
     "output_type": "stream",
     "text": [
      "100%|██████████| 1000/1000 [00:04<00:00, 243.12it/s]\n"
     ]
    }
   ],
   "source": [
    "# copy thoose images to a new folder\n",
    "# make a new folder\n",
    "\n",
    "os.makedirs('data', exist_ok=True)\n",
    "for idx in tqdm(df.index):\n",
    "    # check if image exists\n",
    "    if os.path.exists(os.path.join('tmp/filtered/', idx + '.jpg')):\n",
    "        img = Image.open(os.path.join('tmp/filtered', idx + '.jpg'))\n",
    "        img.save(os.path.join('data', idx + '.jpg'))\n",
    "    else:\n",
    "        # drop the row\n",
    "        df.drop(idx, inplace=True)\n",
    "    "
   ]
  },
  {
   "cell_type": "code",
   "execution_count": 8,
   "metadata": {
    "collapsed": false
   },
   "outputs": [],
   "source": [
    "# create a new column for image\n",
    "df['image'] = ''"
   ]
  },
  {
   "cell_type": "code",
   "execution_count": 9,
   "metadata": {
    "collapsed": false
   },
   "outputs": [
    {
     "name": "stderr",
     "output_type": "stream",
     "text": [
      "100%|██████████| 728/728 [00:02<00:00, 310.30it/s]\n"
     ]
    }
   ],
   "source": [
    "for idx in tqdm(df.index):\n",
    "    img = Image.open(os.path.join('data', idx + '.jpg'))\n",
    "    img = img.resize((224, 224))\n",
    "    img = np.array(img, dtype=np.float32)  # convert to NumPy array with float32 dtype\n",
    "    df.at[idx, 'image'] = img"
   ]
  },
  {
   "cell_type": "code",
   "execution_count": 10,
   "metadata": {
    "collapsed": false
   },
   "outputs": [],
   "source": [
    "# save df, localizations, diag into pickle\n",
    "with open('processed_dataset.pickle', 'wb') as handle:\n",
    "    pickle.dump(df, handle, protocol=pickle.HIGHEST_PROTOCOL)\n",
    "    pickle.dump(localizations, handle, protocol=pickle.HIGHEST_PROTOCOL)\n",
    "    pickle.dump(diag, handle, protocol=pickle.HIGHEST_PROTOCOL)"
   ]
  }
 ],
 "metadata": {
  "kernelspec": {
   "display_name": "MachineLearning",
   "language": "python",
   "name": "python3"
  },
  "language_info": {
   "codemirror_mode": {
    "name": "ipython",
    "version": 3
   },
   "file_extension": ".py",
   "mimetype": "text/x-python",
   "name": "python",
   "nbconvert_exporter": "python",
   "pygments_lexer": "ipython3",
   "version": "3.9.15"
  },
  "orig_nbformat": 4,
  "vscode": {
   "interpreter": {
    "hash": "8bdd5c009f62a4391c84c154fdddba07798cd1d5d25ef5e0b71e3ea80b2a0ba0"
   }
  }
 },
 "nbformat": 4,
 "nbformat_minor": 2
}
