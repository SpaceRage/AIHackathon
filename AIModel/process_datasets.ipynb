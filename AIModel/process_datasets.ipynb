{
 "cells": [
  {
   "cell_type": "code",
   "execution_count": 1,
   "metadata": {},
   "outputs": [],
   "source": [
    "import pickle\n",
    "import pandas as pd"
   ]
  },
  {
   "cell_type": "code",
   "execution_count": 2,
   "outputs": [],
   "source": [
    "# find matching ids from two csv files\n",
    "df1 = pd.read_csv('ISIC_2020_Training_GroundTruth_v2.csv')\n",
    "df2 = pd.read_csv('archive/HAM10000_metadata.csv')\n",
    "\n",
    "df2 = df2.drop(['lesion_id', 'dx_type', ], axis=1)\n",
    "\n",
    "df1 = df1.rename(columns={'image_name': 'image_id'})\n",
    "df1 = df1.rename(columns={'diagnosis': 'dx'})\n",
    "df1 = df1.rename(columns={'anatom_site_general_challenge': 'localization'})\n",
    "df1 = df1.rename(columns={'age_approx': 'age'})\n",
    "df1 = df1.drop(['benign_malignant', \"patient_id\", \"lesion_id\", \"target\"], axis=1)\n",
    "\n",
    "df = pd.concat([df1, df2], axis=0, sort=False)"
   ],
   "metadata": {
    "collapsed": false
   }
  },
  {
   "cell_type": "code",
   "execution_count": 3,
   "outputs": [
    {
     "data": {
      "text/plain": "                 sex  age     localization              dx\nimage_id                                                  \nISIC_0052212  female   50  lower extremity           nevus\nISIC_0076995  female   55            torso           nevus\nISIC_0084086    male   60  lower extremity           nevus\nISIC_0084270    male   40  lower extremity           nevus\nISIC_0084395  female   45            torso           nevus\n...              ...  ...              ...             ...\nISIC_0033084    male   40            torso  keratosis-like\nISIC_0033550    male   40            torso  keratosis-like\nISIC_0033536    male   40            torso  keratosis-like\nISIC_0032854    male   80        head/neck  keratosis-like\nISIC_0032258  female   70            torso        melanoma\n\n[15899 rows x 4 columns]",
      "text/html": "<div>\n<style scoped>\n    .dataframe tbody tr th:only-of-type {\n        vertical-align: middle;\n    }\n\n    .dataframe tbody tr th {\n        vertical-align: top;\n    }\n\n    .dataframe thead th {\n        text-align: right;\n    }\n</style>\n<table border=\"1\" class=\"dataframe\">\n  <thead>\n    <tr style=\"text-align: right;\">\n      <th></th>\n      <th>sex</th>\n      <th>age</th>\n      <th>localization</th>\n      <th>dx</th>\n    </tr>\n    <tr>\n      <th>image_id</th>\n      <th></th>\n      <th></th>\n      <th></th>\n      <th></th>\n    </tr>\n  </thead>\n  <tbody>\n    <tr>\n      <th>ISIC_0052212</th>\n      <td>female</td>\n      <td>50</td>\n      <td>lower extremity</td>\n      <td>nevus</td>\n    </tr>\n    <tr>\n      <th>ISIC_0076995</th>\n      <td>female</td>\n      <td>55</td>\n      <td>torso</td>\n      <td>nevus</td>\n    </tr>\n    <tr>\n      <th>ISIC_0084086</th>\n      <td>male</td>\n      <td>60</td>\n      <td>lower extremity</td>\n      <td>nevus</td>\n    </tr>\n    <tr>\n      <th>ISIC_0084270</th>\n      <td>male</td>\n      <td>40</td>\n      <td>lower extremity</td>\n      <td>nevus</td>\n    </tr>\n    <tr>\n      <th>ISIC_0084395</th>\n      <td>female</td>\n      <td>45</td>\n      <td>torso</td>\n      <td>nevus</td>\n    </tr>\n    <tr>\n      <th>...</th>\n      <td>...</td>\n      <td>...</td>\n      <td>...</td>\n      <td>...</td>\n    </tr>\n    <tr>\n      <th>ISIC_0033084</th>\n      <td>male</td>\n      <td>40</td>\n      <td>torso</td>\n      <td>keratosis-like</td>\n    </tr>\n    <tr>\n      <th>ISIC_0033550</th>\n      <td>male</td>\n      <td>40</td>\n      <td>torso</td>\n      <td>keratosis-like</td>\n    </tr>\n    <tr>\n      <th>ISIC_0033536</th>\n      <td>male</td>\n      <td>40</td>\n      <td>torso</td>\n      <td>keratosis-like</td>\n    </tr>\n    <tr>\n      <th>ISIC_0032854</th>\n      <td>male</td>\n      <td>80</td>\n      <td>head/neck</td>\n      <td>keratosis-like</td>\n    </tr>\n    <tr>\n      <th>ISIC_0032258</th>\n      <td>female</td>\n      <td>70</td>\n      <td>torso</td>\n      <td>melanoma</td>\n    </tr>\n  </tbody>\n</table>\n<p>15899 rows × 4 columns</p>\n</div>"
     },
     "execution_count": 3,
     "metadata": {},
     "output_type": "execute_result"
    }
   ],
   "source": [
    "df['localization'] = df['localization'].replace('trunk', 'torso')\n",
    "df['localization'] = df['localization'].replace('face', 'head/neck')\n",
    "df['localization'] = df['localization'].replace('ear', 'head/neck')\n",
    "df['localization'] = df['localization'].replace('scalp', 'head/neck')\n",
    "df['localization'] = df['localization'].replace('abdomen', 'torso')\n",
    "df['localization'] = df['localization'].replace('genital', 'oral/genital')\n",
    "df['localization'] = df['localization'].replace('back', 'torso')\n",
    "df['localization'] = df['localization'].replace('chest', 'torso')\n",
    "df['localization'] = df['localization'].replace('neck', 'head/neck')\n",
    "df['localization'] = df['localization'].replace('hand', 'hands/feet')\n",
    "df['localization'] = df['localization'].replace('foot', 'hands/feet')\n",
    "df['localization'] = df['localization'].replace('acral', 'hands/feet')\n",
    "df.dropna(subset=['localization'], inplace=True)\n",
    "\n",
    "df['dx'] = df['dx'].replace('nv', 'nevus')\n",
    "df['dx'] = df['dx'].replace('cafe-au-lait macule', 'nevus')\n",
    "df['dx'] = df['dx'].replace('atypical melanocytic proliferation', 'melanoma')\n",
    "df['dx'] = df['dx'].replace('seborrheic keratosis', 'keratosis-like')\n",
    "df['dx'] = df['dx'].replace('lichenoid keratosis', 'keratosis-like')\n",
    "df['dx'] = df['dx'].replace('akiec', 'keratosis-like')\n",
    "df['dx'] = df['dx'].replace('bkl', 'keratosis-like')\n",
    "df['dx'] = df['dx'].replace('solar lentigo', 'lentigo')\n",
    "df['dx'] = df['dx'].replace('lentigo NOS', 'lentigo')\n",
    "df['dx'] = df['dx'].replace('mel', 'melanoma')\n",
    "df['dx'] = df['dx'].replace('bcc', 'basal cell carcinoma')\n",
    "df['dx'] = df['dx'].replace('vasc', 'vascular lesion')\n",
    "df['dx'] = df['dx'].replace('df', 'dermatofibroma')\n",
    "df = df[df.dx != 'unknown']\n",
    "\n",
    "df.dropna(subset=['age'], inplace=True)\n",
    "df['age'] = df['age'].astype(int)\n",
    "df = df.set_index('image_id')\n",
    "df"
   ],
   "metadata": {
    "collapsed": false
   }
  },
  {
   "cell_type": "code",
   "execution_count": 4,
   "outputs": [
    {
     "name": "stdout",
     "output_type": "stream",
     "text": [
      "['lower extremity', 'torso', 'upper extremity', 'head/neck', 'palms/soles', 'oral/genital', 'unknown', 'hands/feet']\n"
     ]
    }
   ],
   "source": [
    "# list all unique values in localization as a list\n",
    "localizations = df['localization'].unique()\n",
    "localizations = localizations.tolist()\n",
    "print(localizations)"
   ],
   "metadata": {
    "collapsed": false
   }
  },
  {
   "cell_type": "code",
   "execution_count": 5,
   "outputs": [
    {
     "name": "stdout",
     "output_type": "stream",
     "text": [
      "['nevus', 'melanoma', 'keratosis-like', 'lentigo', 'dermatofibroma', 'vascular lesion', 'basal cell carcinoma']\n"
     ]
    }
   ],
   "source": [
    "# count of rows for each dx\n",
    "diag = df['dx'].unique()\n",
    "diag = diag.tolist()\n",
    "print(diag)"
   ],
   "metadata": {
    "collapsed": false
   }
  },
  {
   "cell_type": "code",
   "execution_count": 6,
   "outputs": [],
   "source": [
    "# save df, localizations, diag into pickle\n",
    "with open('processed_dataset.pickle', 'wb') as handle:\n",
    "    pickle.dump(df, handle, protocol=pickle.HIGHEST_PROTOCOL)\n",
    "    pickle.dump(localizations, handle, protocol=pickle.HIGHEST_PROTOCOL)\n",
    "    pickle.dump(diag, handle, protocol=pickle.HIGHEST_PROTOCOL)\n"
   ],
   "metadata": {
    "collapsed": false
   }
  }
 ],
 "metadata": {
  "kernelspec": {
   "display_name": "MachineLearning",
   "language": "python",
   "name": "python3"
  },
  "language_info": {
   "codemirror_mode": {
    "name": "ipython",
    "version": 3
   },
   "file_extension": ".py",
   "mimetype": "text/x-python",
   "name": "python",
   "nbconvert_exporter": "python",
   "pygments_lexer": "ipython3",
   "version": "3.9.15"
  },
  "orig_nbformat": 4,
  "vscode": {
   "interpreter": {
    "hash": "8bdd5c009f62a4391c84c154fdddba07798cd1d5d25ef5e0b71e3ea80b2a0ba0"
   }
  }
 },
 "nbformat": 4,
 "nbformat_minor": 2
}
